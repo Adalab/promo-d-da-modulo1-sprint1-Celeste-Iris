{
 "cells": [
  {
   "cell_type": "code",
   "execution_count": 5,
   "metadata": {},
   "outputs": [
    {
     "name": "stdout",
     "output_type": "stream",
     "text": [
      "Marta, Paula, Yolanda\n"
     ]
    }
   ],
   "source": [
    "nombre = input('Dime nombre de tres amigos')\n",
    "print(nombre)"
   ]
  },
  {
   "cell_type": "code",
   "execution_count": 7,
   "metadata": {},
   "outputs": [
    {
     "name": "stdout",
     "output_type": "stream",
     "text": [
      "['Marta, Paula, Yolanda']\n"
     ]
    }
   ],
   "source": [
    "lista_amigas = [nombre]\n",
    "print(lista_amigas)"
   ]
  },
  {
   "cell_type": "code",
   "execution_count": 9,
   "metadata": {},
   "outputs": [
    {
     "name": "stdout",
     "output_type": "stream",
     "text": [
      "1.62, 1.65, 1.70\n"
     ]
    }
   ],
   "source": [
    "alturas = input('Dime la altura de tus amigas')\n",
    "print(alturas)"
   ]
  },
  {
   "cell_type": "code",
   "execution_count": 13,
   "metadata": {},
   "outputs": [
    {
     "name": "stdout",
     "output_type": "stream",
     "text": [
      "['1.62', ' 1.65', ' 1.70']\n"
     ]
    }
   ],
   "source": [
    "lista_alturas = alturas.split (\",\")\n",
    "print(lista_alturas)"
   ]
  },
  {
   "cell_type": "code",
   "execution_count": 14,
   "metadata": {},
   "outputs": [],
   "source": [
    "lista_alturas = [float(i) for i in lista_alturas]"
   ]
  }
 ],
 "metadata": {
  "kernelspec": {
   "display_name": "base",
   "language": "python",
   "name": "python3"
  },
  "language_info": {
   "codemirror_mode": {
    "name": "ipython",
    "version": 3
   },
   "file_extension": ".py",
   "mimetype": "text/x-python",
   "name": "python",
   "nbconvert_exporter": "python",
   "pygments_lexer": "ipython3",
   "version": "3.9.7"
  },
  "orig_nbformat": 4,
  "vscode": {
   "interpreter": {
    "hash": "af938a39d03240743d3b2353184951dc3874ddcb8a387f6444d9813fe0a42eb1"
   }
  }
 },
 "nbformat": 4,
 "nbformat_minor": 2
}
