{
 "cells": [
  {
   "attachments": {},
   "cell_type": "markdown",
   "metadata": {},
   "source": [
    "Pair programming\n",
    "\n",
    "En este ejercicios de pair programming podremos en práctica los bucles for a través de múltiples ejercicios:\n",
    "1. Escribid un programa que pregunte al usuario una cantidad a invertir, el interés anual y el número de años, y muestre por pantalla el capital obtenido en la inversión cada año que dura la inversión."
   ]
  },
  {
   "cell_type": "code",
   "execution_count": 20,
   "metadata": {},
   "outputs": [],
   "source": [
    "cantidad_a_invertir = int(input(\"Qué cantidad invertirás?\"))\n",
    "interes_anual = int(input(\"Cuál será el interés anual?\"))\n",
    "numero_años = int(input(\"A cuántos años será la inversión?\"))"
   ]
  },
  {
   "cell_type": "code",
   "execution_count": 21,
   "metadata": {},
   "outputs": [
    {
     "name": "stdout",
     "output_type": "stream",
     "text": [
      "inversión: 1100 euros\n",
      "interes: 2 %\n",
      "A: 5 años\n"
     ]
    }
   ],
   "source": [
    "print(f\"inversión: {cantidad_a_invertir} euros\")\n",
    "print(f\"interes: {interes_anual} %\")\n",
    "print(f\"A: {numero_años} años\")"
   ]
  },
  {
   "cell_type": "code",
   "execution_count": 27,
   "metadata": {},
   "outputs": [
    {
     "name": "stdout",
     "output_type": "stream",
     "text": [
      "Capital obtenido al año 1: 22.0\n",
      "Capital obtenido al año 2: 22.4\n",
      "Capital obtenido al año 3: 22.9\n",
      "Capital obtenido al año 4: 23.3\n",
      "Capital obtenido al año 5: 23.8\n"
     ]
    }
   ],
   "source": [
    "capital_invertido = cantidad_a_invertir\n",
    "for q in range(numero_años):\n",
    "    capital_obtenido = round(capital_invertido*interes_anual/100,1)\n",
    "    print(f\"Capital obtenido al año {q+1}: {capital_obtenido}\")\n",
    "    capital_invertido += capital_obtenido"
   ]
  },
  {
   "attachments": {},
   "cell_type": "markdown",
   "metadata": {},
   "source": [
    "2. Escribid un programa en el que se pregunte al usuario por una frase y una letra, y muestre por pantalla el número de veces que aparece la letra en la frase."
   ]
  },
  {
   "cell_type": "code",
   "execution_count": 11,
   "metadata": {},
   "outputs": [],
   "source": [
    "frase = input(\"Dime una frase\")\n",
    "letra = input(\"Dime una letra\")"
   ]
  },
  {
   "cell_type": "code",
   "execution_count": 12,
   "metadata": {},
   "outputs": [
    {
     "name": "stdout",
     "output_type": "stream",
     "text": [
      "2\n"
     ]
    }
   ],
   "source": [
    "numero_de_veces = 0\n",
    "for x in frase:\n",
    "    if x == letra:\n",
    "        numero_de_veces += 1\n",
    "print(numero_de_veces)"
   ]
  },
  {
   "attachments": {},
   "cell_type": "markdown",
   "metadata": {},
   "source": [
    "3. Escribid un programa que nos devuelva la tabla de multiplicar de un número especificado en una función input"
   ]
  },
  {
   "cell_type": "code",
   "execution_count": 31,
   "metadata": {},
   "outputs": [
    {
     "name": "stdout",
     "output_type": "stream",
     "text": [
      "5\n"
     ]
    }
   ],
   "source": [
    "numero = int(input(\"Dime un número\"))\n",
    "print(numero)"
   ]
  },
  {
   "cell_type": "code",
   "execution_count": 33,
   "metadata": {},
   "outputs": [
    {
     "name": "stdout",
     "output_type": "stream",
     "text": [
      "5 x 0 = 0\n",
      "5 x 1 = 5\n",
      "5 x 2 = 10\n",
      "5 x 3 = 15\n",
      "5 x 4 = 20\n",
      "5 x 5 = 25\n",
      "5 x 6 = 30\n",
      "5 x 7 = 35\n",
      "5 x 8 = 40\n",
      "5 x 9 = 45\n",
      "5 x 10 = 50\n"
     ]
    }
   ],
   "source": [
    "for z in range(11):\n",
    "    print(f\"{numero} x {z} =\",z*numero)"
   ]
  },
  {
   "attachments": {},
   "cell_type": "markdown",
   "metadata": {},
   "source": [
    "4. Dada la siguinte lista de números:\n",
    "numbers = [12, 75, 150, 180, 145, 525, 50]\n",
    "Escribid un programa que muestre sólo los números de una lista que cumplan las siguientes condiciones\n",
    "-El número debe ser divisible entre cinco\n",
    "-Si el número es mayor que 150, se salta y se pasa al siguiente número\n",
    "-Si el número es mayor que 500, entonces detenga el bucle"
   ]
  },
  {
   "cell_type": "code",
   "execution_count": 52,
   "metadata": {},
   "outputs": [
    {
     "name": "stdout",
     "output_type": "stream",
     "text": [
      "75\n",
      "150\n",
      "145\n",
      "50\n"
     ]
    }
   ],
   "source": [
    "numbers = [12, 75, 150, 180, 145, 525, 50]\n",
    "\n",
    "for y in numbers:\n",
    "    if y > 150:\n",
    "        continue\n",
    "    elif y > 500:\n",
    "        break\n",
    "    elif y % 5 == 0:\n",
    "        print(y)\n"
   ]
  },
  {
   "attachments": {},
   "cell_type": "markdown",
   "metadata": {},
   "source": [
    "5. Dada la siguiente lista:\n",
    "list1 = [10, 20, 30, 40, 50]\n",
    "Imprimir la lista en orden inverso"
   ]
  },
  {
   "cell_type": "code",
   "execution_count": 35,
   "metadata": {},
   "outputs": [],
   "source": [
    "list1 = [10, 20, 30, 40, 50]"
   ]
  },
  {
   "cell_type": "code",
   "execution_count": 51,
   "metadata": {},
   "outputs": [
    {
     "name": "stdout",
     "output_type": "stream",
     "text": [
      "[50, 40, 30, 20, 10]\n"
     ]
    }
   ],
   "source": [
    "list2 = []\n",
    "indice=-1\n",
    "for l in list1:\n",
    "    list2.append(list1[indice])\n",
    "    indice=indice-1\n",
    "\n",
    "print(list2)"
   ]
  },
  {
   "attachments": {},
   "cell_type": "markdown",
   "metadata": {},
   "source": [
    "6. Dado el siguiente código\n",
    "for i in ['1','2','3']:\n",
    "    print (i**2)\n",
    "Usando un try ... except, cread un programa para evitar que nos de un error el código anterior. En su lugar, si se encuentra un error, deberéis poner el código necesario para que no nos devuelva error."
   ]
  },
  {
   "cell_type": "code",
   "execution_count": 56,
   "metadata": {},
   "outputs": [
    {
     "name": "stdout",
     "output_type": "stream",
     "text": [
      "No se puede hacer la operación con 1\n",
      "No se puede hacer la operación con 2\n",
      "No se puede hacer la operación con 3\n"
     ]
    }
   ],
   "source": [
    "for i in ['1','2','3']:\n",
    "    try:\n",
    "        int(i**2)\n",
    "        print(i**2)\n",
    "    except:\n",
    "        print(f'No se puede hacer la operación con {i}')"
   ]
  }
 ],
 "metadata": {
  "kernelspec": {
   "display_name": "Python 3",
   "language": "python",
   "name": "python3"
  },
  "language_info": {
   "codemirror_mode": {
    "name": "ipython",
    "version": 3
   },
   "file_extension": ".py",
   "mimetype": "text/x-python",
   "name": "python",
   "nbconvert_exporter": "python",
   "pygments_lexer": "ipython3",
   "version": "3.10.10"
  },
  "orig_nbformat": 4
 },
 "nbformat": 4,
 "nbformat_minor": 2
}
