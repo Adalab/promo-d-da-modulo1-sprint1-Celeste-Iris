{
 "cells": [
  {
   "attachments": {},
   "cell_type": "markdown",
   "metadata": {},
   "source": [
    "Pair Programming\n",
    "\n",
    "1. En la escuela donde trabajamos tienen el siguiente sistema de notas:\n",
    "\n",
    "- Below 25 - F\n",
    "- 25 to 45 - E\n",
    "- 45 to 50 - D\n",
    "- 50 to 60 - C\n",
    "- 60 to 80 - B\n",
    "- Above 80 - A\n",
    "\n",
    "El objetivo de este ejercicio es que le preguntéis al usuario por una nota (numérica) y nosotros le devolvamos la nota con la letra que le corresponde."
   ]
  },
  {
   "cell_type": "code",
   "execution_count": 20,
   "metadata": {},
   "outputs": [],
   "source": [
    "notas = int(input('¿Qué nota has sacado?'))"
   ]
  },
  {
   "cell_type": "code",
   "execution_count": 21,
   "metadata": {},
   "outputs": [
    {
     "name": "stdout",
     "output_type": "stream",
     "text": [
      "C\n"
     ]
    }
   ],
   "source": [
    "if notas <= 25:\n",
    "    print('F')\n",
    "elif notas >= 25 and notas <= 45:\n",
    "    print('E')\n",
    "elif notas >= 45 and notas <=50:\n",
    "    print('D')\n",
    "elif notas >= 50 and notas <= 60:\n",
    "    print('C')\n",
    "elif notas >= 60 and notas <= 80:\n",
    "    print('B')\n",
    "elif notas >= 80 and notas <= 100:\n",
    "    print('A')"
   ]
  },
  {
   "attachments": {},
   "cell_type": "markdown",
   "metadata": {},
   "source": [
    "2. Cread tres inputs donde a cada uno de ellos le preguntéis su edad, el objetivo del ejercicio es determinar quien es el más viejo y el más joven."
   ]
  },
  {
   "cell_type": "code",
   "execution_count": 28,
   "metadata": {},
   "outputs": [],
   "source": [
    "edad1 = int(input('DIme tu edad'))\n",
    "edad2 = int(input('Dime tu edad'))\n",
    "edad3 = int(input('Dime tu edad'))"
   ]
  },
  {
   "cell_type": "code",
   "execution_count": 34,
   "metadata": {},
   "outputs": [
    {
     "name": "stdout",
     "output_type": "stream",
     "text": [
      "Eres la mediana\n"
     ]
    }
   ],
   "source": [
    "if edad1 >= 50:\n",
    "    print('Eres la mayor')\n",
    "elif edad1 >= 35: \n",
    "    print('Eres la mediana')\n",
    "else:\n",
    "    print('Eres la joven')"
   ]
  },
  {
   "cell_type": "code",
   "execution_count": 35,
   "metadata": {},
   "outputs": [
    {
     "name": "stdout",
     "output_type": "stream",
     "text": [
      "Eres la mayor\n"
     ]
    }
   ],
   "source": [
    "if edad2 >= 50:\n",
    "    print('Eres la mayor')\n",
    "elif edad2 == 35:\n",
    "    print('Eres la del medio')\n",
    "else:\n",
    "    print('Eres la joven')"
   ]
  },
  {
   "cell_type": "code",
   "execution_count": 36,
   "metadata": {},
   "outputs": [
    {
     "name": "stdout",
     "output_type": "stream",
     "text": [
      "Eres la joven\n"
     ]
    }
   ],
   "source": [
    "if edad3 >= 50:\n",
    "    print('Eres la mayor')\n",
    "elif edad3 == 35:\n",
    "    print('Eres la mediana')\n",
    "else: \n",
    "    print('Eres la joven')"
   ]
  },
  {
   "attachments": {},
   "cell_type": "markdown",
   "metadata": {},
   "source": [
    "3. Escribid un programa que pregunte el nombre del usuario a través de la función input(). Si el nombre es \"Bond\" haced que imprima \"Bienvenido a bordo de 007\". En caso contrario haced que imprima \"Buenos días NOMBRE\". (Reemplace NOMBRE por el nombre del usuario)."
   ]
  },
  {
   "cell_type": "code",
   "execution_count": 15,
   "metadata": {},
   "outputs": [],
   "source": [
    "nombre_usuario = input('¿Cómo te llamas?')"
   ]
  },
  {
   "cell_type": "code",
   "execution_count": 16,
   "metadata": {},
   "outputs": [
    {
     "name": "stdout",
     "output_type": "stream",
     "text": [
      "Buenos días Yolanda\n"
     ]
    }
   ],
   "source": [
    "if nombre_usuario == 'Bond':\n",
    "    print('Bienvenido a bordo de 007')\n",
    "else:\n",
    "    print('Buenos días', nombre_usuario)"
   ]
  },
  {
   "attachments": {},
   "cell_type": "markdown",
   "metadata": {},
   "source": [
    "4. Arbol es un diccionario que muestra el número de árboles de países por kilómetro cuadrado para países aleatorios con un número considerable de población. Crea una lista llamada \"masarboles\" que contenga el nombre de los países con más de 40.000 árboles por kilómetro cuadrado."
   ]
  },
  {
   "cell_type": "code",
   "execution_count": 4,
   "metadata": {},
   "outputs": [],
   "source": [
    "tree = {\"Taiwan\": 69593,\n",
    "        \"Japan\": 49894, \n",
    "        \"Russia\": 41396, \n",
    "        \"Canada\": 36388, \n",
    "        \"Bulgaria\": 24987}"
   ]
  },
  {
   "cell_type": "code",
   "execution_count": 9,
   "metadata": {},
   "outputs": [],
   "source": [
    "masarboles = []"
   ]
  },
  {
   "cell_type": "code",
   "execution_count": 10,
   "metadata": {},
   "outputs": [
    {
     "name": "stdout",
     "output_type": "stream",
     "text": [
      "agregamos Taiwan a la lista\n",
      "['Taiwan']\n",
      "agregamos Japan a la lista\n",
      "['Taiwan', 'Japan']\n",
      "agregamos Russia a la lista\n",
      "['Taiwan', 'Japan', 'Russia']\n"
     ]
    }
   ],
   "source": [
    "if tree [\"Taiwan\"] > 40000:\n",
    "    print(\"agregamos Taiwan a la lista\")\n",
    "    masarboles.append(\"Taiwan\")\n",
    "    print(masarboles)\n",
    "if tree[\"Japan\"] > 40000:\n",
    "    print(\"agregamos Japan a la lista\")\n",
    "    masarboles.append(\"Japan\")\n",
    "    print(masarboles)\n",
    "if tree[\"Russia\"] > 40000:\n",
    "    print(\"agregamos Russia a la lista\")\n",
    "    masarboles.append(\"Russia\")\n",
    "    print(masarboles)\n",
    "if tree [\"Canada\"] > 40000:\n",
    "    print(\"agregamos Canada a la lista\")\n",
    "    masarboles.append(\"Canada\")\n",
    "    print(masarboles)\n",
    "if tree[\"Bulgaria\"] > 40000:\n",
    "    prin(\"agregamos Bulgaria en la lista\")\n",
    "    masarboles.append(\"Bulgaria\")\n",
    "    print(masarboles)\n"
   ]
  },
  {
   "attachments": {},
   "cell_type": "markdown",
   "metadata": {},
   "source": [
    "5. Los alumnos de un curso se han dividido en dos grupos A y B de acuerdo al sexo y el nombre. El grupo A esta formado por las mujeres con un nombre anterior a la M y los hombres con un nombre posterior a la N y el grupo B por el resto. Escribid un programa que pregunte al usuario su nombre y sexo, y muestre por pantalla el grupo que le corresponde."
   ]
  },
  {
   "cell_type": "code",
   "execution_count": 11,
   "metadata": {},
   "outputs": [],
   "source": [
    "grupoA = []\n",
    "grupoB = []"
   ]
  },
  {
   "cell_type": "code",
   "execution_count": 16,
   "metadata": {},
   "outputs": [],
   "source": [
    "nombre = input(\"dime tu nombre\")\n",
    "sexo = input(\"dime tu sexo\")\n",
    "\n",
    "if sexo == \"F\":\n",
    "        if nombre < \"M\":\n",
    "                grupoA.append(nombre)\n",
    "        else:\n",
    "                grupoB.append(nombre)\n",
    "elif sexo == \"M\":\n",
    "        if nombre > \"N\":\n",
    "                grupoA.append(nombre)\n",
    "        else:\n",
    "                grupoB.append(nombre)"
   ]
  },
  {
   "cell_type": "code",
   "execution_count": 17,
   "metadata": {},
   "outputs": [
    {
     "name": "stdout",
     "output_type": "stream",
     "text": [
      "['Daniela', 'Ricardo']\n",
      "['Marcela', 'Bruno']\n"
     ]
    }
   ],
   "source": [
    "print(grupoA)\n",
    "print(grupoB)"
   ]
  },
  {
   "cell_type": "code",
   "execution_count": 23,
   "metadata": {},
   "outputs": [],
   "source": [
    "### Alternativa con el código más limpio\n",
    "grupo_A = []\n",
    "grupo_B = []"
   ]
  },
  {
   "cell_type": "code",
   "execution_count": 27,
   "metadata": {},
   "outputs": [],
   "source": [
    "nombre = input(\"dime tu nombre\")\n",
    "sexo = input(\"dime tu sexo\")\n",
    "\n",
    "if ((sexo == \"F\") and (nombre < \"M\")) or ((sexo == \"M\") and (nombre > \"N\")):\n",
    "    grupo_A.append(nombre)\n",
    "else:\n",
    "    grupo_B.append(nombre)"
   ]
  },
  {
   "cell_type": "code",
   "execution_count": 28,
   "metadata": {},
   "outputs": [
    {
     "name": "stdout",
     "output_type": "stream",
     "text": [
      "['Daniela', 'Ricardo']\n",
      "['Marcela', 'Bruno']\n"
     ]
    }
   ],
   "source": [
    "print(grupo_A)\n",
    "print(grupo_B)"
   ]
  },
  {
   "attachments": {},
   "cell_type": "markdown",
   "metadata": {},
   "source": [
    "6. Escribid un programa que:\n",
    "\n",
    "- Dada la variable z con valor 0, es decir z = 0.\n",
    "- Mientras que el valor de z sea menor que 3:\n",
    "    * Si el valor de z es igual a 0:\n",
    "        *Printead el valor de z\n",
    "        *Almancenad el valor en una lista auxiliar\n",
    "        *Sumadle 1 al valor de z\n",
    "\n",
    "   * Si el valor de z es igual a 1:\n",
    "       *Printead el valor de z\n",
    "       *Almancenad el valor en una lista auxiliar\n",
    "        *Sumadle 1 al valor de z\n",
    "\n",
    "    * En caso de que no se cumplan las condiciones anteriores:\n",
    "        *Printead el valor de z\n",
    "        *Sumadle 1 al valor de z"
   ]
  },
  {
   "cell_type": "code",
   "execution_count": 1,
   "metadata": {},
   "outputs": [],
   "source": [
    "z = 0"
   ]
  },
  {
   "cell_type": "code",
   "execution_count": 2,
   "metadata": {},
   "outputs": [
    {
     "name": "stdout",
     "output_type": "stream",
     "text": [
      "z es 0\n",
      "z es 1\n",
      "z es 2\n",
      "z es 3\n"
     ]
    }
   ],
   "source": [
    "while z <= 3:\n",
    "    print( 'z es' , z)\n",
    "    z += 1\n",
    "    if z == 1:\n",
    "        print('z es' , z)\n",
    "        z += 1\n",
    "    else:\n",
    "        print('z es' , z)\n",
    "        z+= 1"
   ]
  },
  {
   "attachments": {},
   "cell_type": "markdown",
   "metadata": {},
   "source": [
    "7. BONUS El objetivo de este ejercicio es añadir elementos a una lista utilizando el bucle while:\n",
    "-Cread una lista vacía\n",
    "-Cread una variable cuyo valor sea 0\n",
    "-Mientras que la longitud de la lista creada en el primer paso sea menor que 4:\n",
    "    *Apendead el valor de la variable creada en el paso 2\n",
    "    *Sumad 1 a la variable creada en el paso 2\n",
    "-Por último, printead los valores que hemos añadido en la lista vacía (ya no lo estaría)"
   ]
  },
  {
   "cell_type": "code",
   "execution_count": 38,
   "metadata": {},
   "outputs": [
    {
     "name": "stdout",
     "output_type": "stream",
     "text": [
      "[0, 1, 2, 3]\n"
     ]
    }
   ],
   "source": [
    "lista = []\n",
    "valor = 0\n",
    "\n",
    "while len(lista) < 4:\n",
    "    lista.append(valor)\n",
    "    valor += 1\n",
    "print(lista)"
   ]
  },
  {
   "attachments": {},
   "cell_type": "markdown",
   "metadata": {},
   "source": [
    "9. BONUS Escribid un programa para una empresa que tiene salas de juegos para todas las edades y quiere calcular de forma automática el precio que debe cobrar a sus clientes por entrar. El programa debe preguntar al usuario la edad del cliente y mostrar el precio de la entrada. Si el cliente es menor de 4 años puede entrar gratis, si tiene entre 4 y 18 años debe pagar 5€ y si es mayor de 18 años, 10€."
   ]
  },
  {
   "cell_type": "code",
   "execution_count": 17,
   "metadata": {},
   "outputs": [],
   "source": [
    "edad_entrada = int(input('¿Cuántos años tienes'))"
   ]
  },
  {
   "cell_type": "code",
   "execution_count": 18,
   "metadata": {},
   "outputs": [
    {
     "name": "stdout",
     "output_type": "stream",
     "text": [
      "¡Tu entrada es gratis!\n"
     ]
    }
   ],
   "source": [
    "if edad_entrada < 4:\n",
    "    print('¡Tu entrada es gratis!')\n",
    "elif edad_entrada <=18:\n",
    "    print('La entrada es de 5€')\n",
    "else:\n",
    "    print('10€ por entrada')\n"
   ]
  }
 ],
 "metadata": {
  "kernelspec": {
   "display_name": "base",
   "language": "python",
   "name": "python3"
  },
  "language_info": {
   "codemirror_mode": {
    "name": "ipython",
    "version": 3
   },
   "file_extension": ".py",
   "mimetype": "text/x-python",
   "name": "python",
   "nbconvert_exporter": "python",
   "pygments_lexer": "ipython3",
   "version": "3.9.7"
  },
  "orig_nbformat": 4,
  "vscode": {
   "interpreter": {
    "hash": "af938a39d03240743d3b2353184951dc3874ddcb8a387f6444d9813fe0a42eb1"
   }
  }
 },
 "nbformat": 4,
 "nbformat_minor": 2
}
