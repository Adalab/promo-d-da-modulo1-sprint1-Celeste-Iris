{
 "cells": [
  {
   "attachments": {},
   "cell_type": "markdown",
   "metadata": {},
   "source": [
    "Pair programming\n",
    "\n",
    "En el pair programming de hoy seguiremos poniendo en práctica las listas de Python. En la sesión de hoy tendréis que realizar las siguientes tareas:"
   ]
  },
  {
   "attachments": {},
   "cell_type": "markdown",
   "metadata": {},
   "source": [
    "Cread una lista con 10 números aleatorios entre el 0 y el 100. Para esto tendréis que ejecutar el siguiente código:\n",
    "import random\n",
    "lista = random.sample(range(1,100), 10)\n",
    "Este código no tenemos por que entenderlo. En este código veremos un par de cosas que no sabemos que son:\n",
    "random.sample(): os dejamos por aquí la documentación de la random.sample por si queréis curiosear.\n",
    "range(): aquí tenéis la documentación para las más atrevidas."
   ]
  },
  {
   "cell_type": "code",
   "execution_count": 4,
   "metadata": {},
   "outputs": [],
   "source": [
    "import random\n",
    "lista = random.sample(range(1,100), 10)"
   ]
  },
  {
   "cell_type": "code",
   "execution_count": 5,
   "metadata": {},
   "outputs": [
    {
     "name": "stdout",
     "output_type": "stream",
     "text": [
      "[19, 23, 70, 47, 15, 46, 89, 48, 69, 74]\n"
     ]
    }
   ],
   "source": [
    "print(lista)"
   ]
  },
  {
   "attachments": {},
   "cell_type": "markdown",
   "metadata": {},
   "source": [
    "Con la lista creada en el ejercicio anterior:\n",
    "Nota: cuando os preguntamos el elemento que esta en la tercera posición nos referimos a la posición \"humana\", es decir, dada la siguiente lista:\n",
    "ejemplo = [4,6,2,7,9,0]"
   ]
  },
  {
   "cell_type": "code",
   "execution_count": 6,
   "metadata": {},
   "outputs": [],
   "source": [
    "# si os pedimos el número que esta en tercera posición el resultado deberá ser \"2\"\n",
    "\n",
    "# si os pedimos el número que esta en primera posición deberá ser \"4\""
   ]
  },
  {
   "attachments": {},
   "cell_type": "markdown",
   "metadata": {},
   "source": [
    "¿Cuál es la longitud de la lista? Utilizad métodos de Python para extraer este resultado."
   ]
  },
  {
   "cell_type": "code",
   "execution_count": 7,
   "metadata": {},
   "outputs": [
    {
     "data": {
      "text/plain": [
       "10"
      ]
     },
     "execution_count": 7,
     "metadata": {},
     "output_type": "execute_result"
    }
   ],
   "source": [
    "len(lista)"
   ]
  },
  {
   "attachments": {},
   "cell_type": "markdown",
   "metadata": {},
   "source": [
    "Extraed el número que está en la tercera posición.Recordad que los índices en Python empiezan en 0 y que no corresponden con las \"posiciones humanas\""
   ]
  },
  {
   "cell_type": "code",
   "execution_count": 8,
   "metadata": {},
   "outputs": [
    {
     "data": {
      "text/plain": [
       "70"
      ]
     },
     "execution_count": 8,
     "metadata": {},
     "output_type": "execute_result"
    }
   ],
   "source": [
    "lista[2]"
   ]
  },
  {
   "attachments": {},
   "cell_type": "markdown",
   "metadata": {},
   "source": [
    "Extraed el número que esta en la tercera posición utilizando los índices negativos."
   ]
  },
  {
   "cell_type": "code",
   "execution_count": 9,
   "metadata": {},
   "outputs": [
    {
     "data": {
      "text/plain": [
       "70"
      ]
     },
     "execution_count": 9,
     "metadata": {},
     "output_type": "execute_result"
    }
   ],
   "source": [
    "lista[-8]"
   ]
  },
  {
   "cell_type": "code",
   "execution_count": 10,
   "metadata": {},
   "outputs": [
    {
     "name": "stdout",
     "output_type": "stream",
     "text": [
      "<class 'list'>\n"
     ]
    }
   ],
   "source": [
    "print(type(lista))"
   ]
  },
  {
   "attachments": {},
   "cell_type": "markdown",
   "metadata": {},
   "source": [
    "Preguntad al usuario por un número de la lista que hemos creado en el primer paso, recordad que para eso tendréis que usar la función input. ¿En que posición esta el número que ha eligido la usuaria?"
   ]
  },
  {
   "cell_type": "code",
   "execution_count": 11,
   "metadata": {},
   "outputs": [
    {
     "name": "stdout",
     "output_type": "stream",
     "text": [
      "[19, 23, 70, 47, 15, 46, 89, 48, 69, 74]\n"
     ]
    }
   ],
   "source": [
    "lista2 = lista.copy()\n",
    "print(lista2)"
   ]
  },
  {
   "cell_type": "code",
   "execution_count": 12,
   "metadata": {},
   "outputs": [
    {
     "name": "stdout",
     "output_type": "stream",
     "text": [
      "4\n"
     ]
    }
   ],
   "source": [
    "lista2 = input('dime un numero de la lista')\n",
    "print(lista2)"
   ]
  },
  {
   "cell_type": "code",
   "execution_count": 13,
   "metadata": {},
   "outputs": [
    {
     "name": "stdout",
     "output_type": "stream",
     "text": [
      "<class 'str'>\n"
     ]
    }
   ],
   "source": [
    "# por qué es string?\n",
    "\n",
    "print(type(lista2))"
   ]
  },
  {
   "cell_type": "code",
   "execution_count": 14,
   "metadata": {},
   "outputs": [
    {
     "name": "stdout",
     "output_type": "stream",
     "text": [
      "0\n"
     ]
    }
   ],
   "source": [
    "# por qué devuelve 0 y no 1?\n",
    "\n",
    "print(lista2.index('4'))"
   ]
  },
  {
   "attachments": {},
   "cell_type": "markdown",
   "metadata": {},
   "source": [
    "Extraed los valores que estén entre la tercera posición y la quinta (ambos inclusive). Esto nos tendrá que devolver una lista de 3 elementos."
   ]
  },
  {
   "cell_type": "code",
   "execution_count": 15,
   "metadata": {},
   "outputs": [
    {
     "name": "stdout",
     "output_type": "stream",
     "text": [
      "[70, 47, 15]\n"
     ]
    }
   ],
   "source": [
    "print(lista[2:5])"
   ]
  },
  {
   "attachments": {},
   "cell_type": "markdown",
   "metadata": {},
   "source": [
    "Extraed los valores que estén entre las posiciones 6 y 9 utilizando índices negativos. Os debe devolver una lista con 4 números."
   ]
  },
  {
   "cell_type": "code",
   "execution_count": 17,
   "metadata": {},
   "outputs": [
    {
     "name": "stdout",
     "output_type": "stream",
     "text": [
      "[89, 48, 69, 74]\n"
     ]
    }
   ],
   "source": [
    "print(lista[-4:])"
   ]
  },
  {
   "attachments": {},
   "cell_type": "markdown",
   "metadata": {},
   "source": [
    "¿Cuáles son los numéros que están en las posiciones pares nuestra lista?"
   ]
  },
  {
   "cell_type": "code",
   "execution_count": 18,
   "metadata": {},
   "outputs": [
    {
     "data": {
      "text/plain": [
       "[23, 47, 46, 48, 74]"
      ]
     },
     "execution_count": 18,
     "metadata": {},
     "output_type": "execute_result"
    }
   ],
   "source": [
    "lista[1::2]"
   ]
  },
  {
   "attachments": {},
   "cell_type": "markdown",
   "metadata": {},
   "source": [
    "¿Y los que están en posiciones impares?"
   ]
  },
  {
   "cell_type": "code",
   "execution_count": 19,
   "metadata": {},
   "outputs": [
    {
     "data": {
      "text/plain": [
       "[19, 70, 15, 89, 69]"
      ]
     },
     "execution_count": 19,
     "metadata": {},
     "output_type": "execute_result"
    }
   ],
   "source": [
    "lista[0::2]"
   ]
  },
  {
   "attachments": {},
   "cell_type": "markdown",
   "metadata": {},
   "source": [
    "Dadas las siguientes listas:\n",
    "nombres = [\"Laura\", \"Lorena\", \"Lupe\", \"Loreto\", \"Lucía\"]\n",
    "notas =  [9, 8.5, 9.8, 8.9, 9.2]\n",
    "¿Qué nota ha sacado Lupe? Para este ejercicio os pedimos que uséis primero el método index() de listas y luego lo índices con [] de las listas. Para esto tendréis que sacar primero en que posición esta Lupe en la lista nombres y usar el resultado de este paso para acceder ,usando los índices de Python, a la nota de Lupe."
   ]
  },
  {
   "cell_type": "code",
   "execution_count": 20,
   "metadata": {},
   "outputs": [],
   "source": [
    "nombres = [\"Laura\", \"Lorena\", \"Lupe\", \"Loreto\", \"Lucía\"]\n",
    "notas = [9, 8.5, 9.8, 8.9, 9.2]"
   ]
  },
  {
   "cell_type": "code",
   "execution_count": 22,
   "metadata": {},
   "outputs": [
    {
     "name": "stdout",
     "output_type": "stream",
     "text": [
      "2\n"
     ]
    }
   ],
   "source": [
    "print(nombres.index('Lupe'))"
   ]
  },
  {
   "cell_type": "code",
   "execution_count": 24,
   "metadata": {},
   "outputs": [
    {
     "name": "stdout",
     "output_type": "stream",
     "text": [
      "9.8\n"
     ]
    }
   ],
   "source": [
    "print(notas[2])"
   ]
  },
  {
   "attachments": {},
   "cell_type": "markdown",
   "metadata": {},
   "source": [
    "De la misma forma, ¿qué alumna a sacado la nota más alta? Tendréis que poner en práctica, métodos aprendidos hoy y en la lección de listas de ayer."
   ]
  },
  {
   "cell_type": "code",
   "execution_count": 26,
   "metadata": {},
   "outputs": [
    {
     "name": "stdout",
     "output_type": "stream",
     "text": [
      "9.8\n"
     ]
    }
   ],
   "source": [
    "nota_maxima = max(notas)\n",
    "print(nota_maxima)"
   ]
  },
  {
   "cell_type": "code",
   "execution_count": 27,
   "metadata": {},
   "outputs": [
    {
     "name": "stdout",
     "output_type": "stream",
     "text": [
      "2\n"
     ]
    }
   ],
   "source": [
    "print(notas.index(9.8))"
   ]
  },
  {
   "cell_type": "code",
   "execution_count": 29,
   "metadata": {},
   "outputs": [
    {
     "name": "stdout",
     "output_type": "stream",
     "text": [
      "Lupe\n"
     ]
    }
   ],
   "source": [
    "print(nombres[2])"
   ]
  },
  {
   "attachments": {},
   "cell_type": "markdown",
   "metadata": {},
   "source": [
    "¿Qué alumna a sacado la nota más baja? ¿Es esta nota mayor que 5?"
   ]
  },
  {
   "cell_type": "code",
   "execution_count": 31,
   "metadata": {},
   "outputs": [
    {
     "name": "stdout",
     "output_type": "stream",
     "text": [
      "8.5\n"
     ]
    }
   ],
   "source": [
    "nota_minima = min(notas)\n",
    "print(nota_minima)"
   ]
  },
  {
   "cell_type": "code",
   "execution_count": 32,
   "metadata": {},
   "outputs": [
    {
     "name": "stdout",
     "output_type": "stream",
     "text": [
      "1\n"
     ]
    }
   ],
   "source": [
    "print(notas.index(8.5))"
   ]
  },
  {
   "cell_type": "code",
   "execution_count": 34,
   "metadata": {},
   "outputs": [
    {
     "name": "stdout",
     "output_type": "stream",
     "text": [
      "Lorena\n"
     ]
    }
   ],
   "source": [
    "print(nombres[1])"
   ]
  },
  {
   "cell_type": "code",
   "execution_count": 35,
   "metadata": {},
   "outputs": [
    {
     "name": "stdout",
     "output_type": "stream",
     "text": [
      "<class 'list'>\n"
     ]
    }
   ],
   "source": [
    "print(type(notas))"
   ]
  },
  {
   "cell_type": "code",
   "execution_count": 36,
   "metadata": {},
   "outputs": [
    {
     "name": "stdout",
     "output_type": "stream",
     "text": [
      "True\n"
     ]
    }
   ],
   "source": [
    "print(nota_minima >= 5)"
   ]
  },
  {
   "attachments": {},
   "cell_type": "markdown",
   "metadata": {},
   "source": [
    "Ordenad la lista de notas de mayor a menor y almacenalo en una nueva variable llamada notas_nuevo_orden"
   ]
  },
  {
   "cell_type": "code",
   "execution_count": 40,
   "metadata": {},
   "outputs": [
    {
     "name": "stdout",
     "output_type": "stream",
     "text": [
      "[8.5, 8.9, 9, 9.2, 9.8]\n"
     ]
    }
   ],
   "source": [
    "notas_nuevo_orden = notas.copy() # por qué se ha ordenado al hacer una copia?\n",
    "print(notas_nuevo_orden)"
   ]
  },
  {
   "cell_type": "code",
   "execution_count": 46,
   "metadata": {},
   "outputs": [
    {
     "name": "stdout",
     "output_type": "stream",
     "text": [
      "[9.8, 9.2, 9, 8.9, 8.5]\n"
     ]
    }
   ],
   "source": [
    "notas_nuevo_orden.reverse() # tuvimos que usar el .reverse para dar vuelta el orden\n",
    "print(notas_nuevo_orden)"
   ]
  },
  {
   "attachments": {},
   "cell_type": "markdown",
   "metadata": {},
   "source": [
    "Ordenad las notas de las alumnas de mayor a menor. Usa el método que sobreescriba la variable notas."
   ]
  },
  {
   "cell_type": "code",
   "execution_count": 47,
   "metadata": {},
   "outputs": [
    {
     "name": "stdout",
     "output_type": "stream",
     "text": [
      "[8.5, 8.9, 9, 9.2, 9.8]\n"
     ]
    }
   ],
   "source": [
    "print(sorted(notas_nuevo_orden)) # por qué ordena de menor a mayor?"
   ]
  },
  {
   "attachments": {},
   "cell_type": "markdown",
   "metadata": {},
   "source": [
    "Ordenad la lista de nombres de mayor a menor. ¿Qué es lo que ha pasado?"
   ]
  },
  {
   "cell_type": "code",
   "execution_count": 48,
   "metadata": {},
   "outputs": [
    {
     "name": "stdout",
     "output_type": "stream",
     "text": [
      "['Laura', 'Lorena', 'Loreto', 'Lucía', 'Lupe']\n"
     ]
    }
   ],
   "source": [
    "print(sorted(nombres))"
   ]
  },
  {
   "attachments": {},
   "cell_type": "markdown",
   "metadata": {},
   "source": [
    "Borrad la lista de notas."
   ]
  },
  {
   "cell_type": "code",
   "execution_count": 50,
   "metadata": {},
   "outputs": [
    {
     "ename": "NameError",
     "evalue": "name 'notas' is not defined",
     "output_type": "error",
     "traceback": [
      "\u001b[1;31m---------------------------------------------------------------------------\u001b[0m",
      "\u001b[1;31mNameError\u001b[0m                                 Traceback (most recent call last)",
      "Cell \u001b[1;32mIn[50], line 1\u001b[0m\n\u001b[1;32m----> 1\u001b[0m \u001b[39mdel\u001b[39;00m notas\n\u001b[0;32m      2\u001b[0m \u001b[39mprint\u001b[39m(notas)\n",
      "\u001b[1;31mNameError\u001b[0m: name 'notas' is not defined"
     ]
    }
   ],
   "source": [
    "del notas\n",
    "print(notas)"
   ]
  },
  {
   "attachments": {},
   "cell_type": "markdown",
   "metadata": {},
   "source": [
    "Dadas las siguientes listas:\n",
    "lunes = [34,56,82]\n",
    "martes = [99, 64, 24]\n",
    "miercoles = [12, 59, 71]\n",
    "Unid las tres listas de forma que tengamos el siguiente output\n",
    "[34, 56, 82, [99, 64, 24], [12, 59, 71]]"
   ]
  },
  {
   "cell_type": "code",
   "execution_count": 63,
   "metadata": {},
   "outputs": [],
   "source": [
    "lunes = [34,56,82]\n",
    "martes = [99, 64, 24]\n",
    "miercoles = [12, 59, 71]"
   ]
  },
  {
   "cell_type": "code",
   "execution_count": 91,
   "metadata": {},
   "outputs": [
    {
     "name": "stdout",
     "output_type": "stream",
     "text": [
      "[[34, 56, 82], [99, 64, 24], [12, 59, 71]]\n"
     ]
    }
   ],
   "source": [
    "dias1 = [lunes, martes, miercoles]\n",
    "print(dias1)"
   ]
  },
  {
   "attachments": {},
   "cell_type": "markdown",
   "metadata": {},
   "source": [
    "Definid de nuevo la tres listas. Ahora unid las tres listas de tal forma que obtengamos el siguiente output:\n",
    "[34, 56, 82, 99, 64, 24, 12, 59, 71]"
   ]
  },
  {
   "cell_type": "code",
   "execution_count": 86,
   "metadata": {},
   "outputs": [],
   "source": [
    "lunes = [34,56,82]\n",
    "martes = [99, 64, 24]\n",
    "miercoles = [12, 59, 71]"
   ]
  },
  {
   "cell_type": "code",
   "execution_count": 89,
   "metadata": {},
   "outputs": [
    {
     "name": "stdout",
     "output_type": "stream",
     "text": [
      "[34, 56, 82, 99, 64, 24, 12, 59, 71]\n"
     ]
    }
   ],
   "source": [
    "dias = lunes + martes + miercoles\n",
    "print(dias)"
   ]
  },
  {
   "attachments": {},
   "cell_type": "markdown",
   "metadata": {},
   "source": [
    "Definid de nuevo las tres listas. Insertad los siguientes valores:\n",
    "En la lista lunes un 100 en la primera posición\n",
    "En la lista martes un 100 en la tercera posición\n",
    "En la lista miercoles un 100 en la última posición"
   ]
  },
  {
   "cell_type": "code",
   "execution_count": 104,
   "metadata": {},
   "outputs": [],
   "source": [
    "lunes = [34,56,82]\n",
    "martes = [99, 64, 24]\n",
    "miercoles = [12, 59, 71]"
   ]
  },
  {
   "cell_type": "code",
   "execution_count": 105,
   "metadata": {},
   "outputs": [
    {
     "name": "stdout",
     "output_type": "stream",
     "text": [
      "[100, 34, 56, 82]\n"
     ]
    }
   ],
   "source": [
    "lunes.insert(0,100)\n",
    "print(lunes)"
   ]
  },
  {
   "cell_type": "code",
   "execution_count": 106,
   "metadata": {},
   "outputs": [
    {
     "name": "stdout",
     "output_type": "stream",
     "text": [
      "[99, 64, 100, 24]\n"
     ]
    }
   ],
   "source": [
    "martes.insert(2,100)\n",
    "print(martes)"
   ]
  },
  {
   "cell_type": "code",
   "execution_count": 107,
   "metadata": {},
   "outputs": [
    {
     "name": "stdout",
     "output_type": "stream",
     "text": [
      "[12, 59, 71, 100]\n"
     ]
    }
   ],
   "source": [
    "miercoles.insert(3,100)\n",
    "print(miercoles)"
   ]
  },
  {
   "cell_type": "code",
   "execution_count": 108,
   "metadata": {},
   "outputs": [
    {
     "name": "stdout",
     "output_type": "stream",
     "text": [
      "[12, 59, 71, 100, 100]\n"
     ]
    }
   ],
   "source": [
    "miercoles.insert(-1,100) # por qué se agrega otro 100?\n",
    "print(miercoles)"
   ]
  }
 ],
 "metadata": {
  "kernelspec": {
   "display_name": "Python 3",
   "language": "python",
   "name": "python3"
  },
  "language_info": {
   "codemirror_mode": {
    "name": "ipython",
    "version": 3
   },
   "file_extension": ".py",
   "mimetype": "text/x-python",
   "name": "python",
   "nbconvert_exporter": "python",
   "pygments_lexer": "ipython3",
   "version": "3.10.10"
  },
  "orig_nbformat": 4,
  "vscode": {
   "interpreter": {
    "hash": "af728eb2b6bdd60f08e40dae68dc569aa475348359df9071a3cb26fa123d7d65"
   }
  }
 },
 "nbformat": 4,
 "nbformat_minor": 2
}
